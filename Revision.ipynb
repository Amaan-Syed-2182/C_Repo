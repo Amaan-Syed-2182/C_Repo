{
 "cells": [
  {
   "cell_type": "markdown",
   "id": "a9eddd0f-2390-4db1-b49d-42f907be7fc7",
   "metadata": {},
   "source": [
    "## Dictionary Revision"
   ]
  },
  {
   "cell_type": "code",
   "execution_count": 11,
   "id": "f44f9033-7d8e-4abe-b55d-637ea8ca5d84",
   "metadata": {},
   "outputs": [
    {
     "name": "stdout",
     "output_type": "stream",
     "text": [
      "{1: 0, 2: 1, 4: 2, 7: 3, 11: 4, 19: 5}\n",
      "2 7 3\n",
      "7 2 1\n"
     ]
    }
   ],
   "source": [
    "# Inserting a List elements in a Dictionary\n",
    "x = [1,2,4,7,11,19]\n",
    "my_dict = {}\n",
    "target = 9\n",
    "for i in range(len(x)):\n",
    "    my_dict[x[i]] = i\n",
    "print(my_dict)\n",
    "for i in x:\n",
    "    if(target-i in my_dict):\n",
    "        print(i,target-i,my_dict[target-i])\n",
    "    "
   ]
  },
  {
   "cell_type": "markdown",
   "id": "780bdd60-2bb2-48ce-868c-8d757e13f05e",
   "metadata": {},
   "source": [
    "## set Revision\n",
    "        \n",
    "\n",
    "    \n",
    "    "
   ]
  },
  {
   "cell_type": "code",
   "execution_count": 15,
   "id": "75c54e2e-d224-48f0-9ea8-7cd55e60dcad",
   "metadata": {},
   "outputs": [
    {
     "name": "stdout",
     "output_type": "stream",
     "text": [
      "{1, 2, 3, 4, 5, 56}\n",
      "{1, 2, 3, 4, 5, 'ABC', 56}\n",
      "{1, 'ABC', 3, 4, 5, 'C', 'B', 'A', 56}\n"
     ]
    }
   ],
   "source": [
    "x = {1,2,2,3,3,4,4,1,5,5,56}\n",
    "print(x)\n",
    "x.add(\"ABC\")\n",
    "print(x)\n",
    "x.remove(2)\n",
    "x.update(\"ABC\")\n",
    "print(x)"
   ]
  },
  {
   "cell_type": "code",
   "execution_count": null,
   "id": "435a446b-f00e-4f0e-89e3-d5fca7825cb6",
   "metadata": {},
   "outputs": [],
   "source": []
  }
 ],
 "metadata": {
  "kernelspec": {
   "display_name": "Python [conda env:base] *",
   "language": "python",
   "name": "conda-base-py"
  },
  "language_info": {
   "codemirror_mode": {
    "name": "ipython",
    "version": 3
   },
   "file_extension": ".py",
   "mimetype": "text/x-python",
   "name": "python",
   "nbconvert_exporter": "python",
   "pygments_lexer": "ipython3",
   "version": "3.12.7"
  }
 },
 "nbformat": 4,
 "nbformat_minor": 5
}
